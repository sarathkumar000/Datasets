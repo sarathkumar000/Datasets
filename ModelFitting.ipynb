{
  "nbformat": 4,
  "nbformat_minor": 0,
  "metadata": {
    "colab": {
      "name": "Copy of Copy of ModelFitting",
      "provenance": [],
      "collapsed_sections": [],
      "include_colab_link": true
    },
    "kernelspec": {
      "name": "python3",
      "display_name": "Python 3"
    }
  },
  "cells": [
    {
      "cell_type": "markdown",
      "metadata": {
        "id": "view-in-github",
        "colab_type": "text"
      },
      "source": [
        "<a href=\"https://colab.research.google.com/github/sarathkumar000/Datasets/blob/master/ModelFitting.ipynb\" target=\"_parent\"><img src=\"https://colab.research.google.com/assets/colab-badge.svg\" alt=\"Open In Colab\"/></a>"
      ]
    },
    {
      "cell_type": "code",
      "metadata": {
        "id": "RUV4s4Qur1Hr",
        "colab_type": "code",
        "outputId": "c316f763-7045-46b6-8b1c-3974d249289c",
        "colab": {
          "base_uri": "https://localhost:8080/",
          "height": 68
        }
      },
      "source": [
        "import numpy; print(\"NumPy\", numpy.__version__)\n",
        "import scipy; print(\"SciPy\", scipy.__version__)\n",
        "import sklearn; print(\"Scikit-Learn\", sklearn.__version__)\n",
        "from sklearn.tree import DecisionTreeClassifier\n",
        "from sklearn.ensemble import RandomForestClassifier, VotingClassifier\n",
        "from sklearn.neighbors import KNeighborsClassifier\n",
        "from sklearn.naive_bayes import MultinomialNB\n",
        "from sklearn.svm import SVC\n",
        "from sklearn.metrics import (accuracy_score, roc_curve, auc, roc_auc_score, \n",
        "                             confusion_matrix, classification_report)\n",
        "import matplotlib.pyplot as plt\n",
        "import seaborn as sns\n",
        "from sklearn import model_selection\n",
        "from sklearn.model_selection import GridSearchCV\n",
        "\n",
        "from google.colab import files\n",
        "import pandas as pd\n",
        "import io\n",
        "import time"
      ],
      "execution_count": 0,
      "outputs": [
        {
          "output_type": "stream",
          "text": [
            "NumPy 1.17.5\n",
            "SciPy 1.4.1\n",
            "Scikit-Learn 0.22.1\n"
          ],
          "name": "stdout"
        }
      ]
    },
    {
      "cell_type": "code",
      "metadata": {
        "id": "FWD1D60tsBta",
        "colab_type": "code",
        "outputId": "1b5e6b23-ff6f-4a69-cc25-3ad2ac185923",
        "colab": {
          "resources": {
            "http://localhost:8080/nbextensions/google.colab/files.js": {
              "data": "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",
              "ok": true,
              "headers": [
                [
                  "content-type",
                  "application/javascript"
                ]
              ],
              "status": 200,
              "status_text": ""
            }
          },
          "base_uri": "https://localhost:8080/",
          "height": 261
        }
      },
      "source": [
        "uploaded = files.upload()\n",
        "df1 = pd.read_csv(io.StringIO(uploaded['clean.csv'].decode('cp1252')),)\n",
        "df1.head()\n"
      ],
      "execution_count": 0,
      "outputs": [
        {
          "output_type": "display_data",
          "data": {
            "text/html": [
              "\n",
              "     <input type=\"file\" id=\"files-a66b62bf-a32a-4d8c-bbd0-ff0a89232085\" name=\"files[]\" multiple disabled />\n",
              "     <output id=\"result-a66b62bf-a32a-4d8c-bbd0-ff0a89232085\">\n",
              "      Upload widget is only available when the cell has been executed in the\n",
              "      current browser session. Please rerun this cell to enable.\n",
              "      </output>\n",
              "      <script src=\"/nbextensions/google.colab/files.js\"></script> "
            ],
            "text/plain": [
              "<IPython.core.display.HTML object>"
            ]
          },
          "metadata": {
            "tags": []
          }
        },
        {
          "output_type": "stream",
          "text": [
            "Saving clean.csv to clean (1).csv\n"
          ],
          "name": "stdout"
        },
        {
          "output_type": "execute_result",
          "data": {
            "text/html": [
              "<div>\n",
              "<style scoped>\n",
              "    .dataframe tbody tr th:only-of-type {\n",
              "        vertical-align: middle;\n",
              "    }\n",
              "\n",
              "    .dataframe tbody tr th {\n",
              "        vertical-align: top;\n",
              "    }\n",
              "\n",
              "    .dataframe thead th {\n",
              "        text-align: right;\n",
              "    }\n",
              "</style>\n",
              "<table border=\"1\" class=\"dataframe\">\n",
              "  <thead>\n",
              "    <tr style=\"text-align: right;\">\n",
              "      <th></th>\n",
              "      <th>Unnamed: 0</th>\n",
              "      <th>Valid</th>\n",
              "      <th>Review</th>\n",
              "    </tr>\n",
              "  </thead>\n",
              "  <tbody>\n",
              "    <tr>\n",
              "      <th>0</th>\n",
              "      <td>0</td>\n",
              "      <td>1.0</td>\n",
              "      <td>something definitely wrong get touch vet take ...</td>\n",
              "    </tr>\n",
              "    <tr>\n",
              "      <th>1</th>\n",
              "      <td>1</td>\n",
              "      <td>1.0</td>\n",
              "      <td>shaking often sign pain distress mental physic...</td>\n",
              "    </tr>\n",
              "    <tr>\n",
              "      <th>2</th>\n",
              "      <td>2</td>\n",
              "      <td>0.0</td>\n",
              "      <td>time tell u take vet</td>\n",
              "    </tr>\n",
              "    <tr>\n",
              "      <th>3</th>\n",
              "      <td>3</td>\n",
              "      <td>0.0</td>\n",
              "      <td>happy new year l take tall glass bubbly please</td>\n",
              "    </tr>\n",
              "    <tr>\n",
              "      <th>4</th>\n",
              "      <td>4</td>\n",
              "      <td>0.0</td>\n",
              "      <td>happy new year otis blurted family raise glass...</td>\n",
              "    </tr>\n",
              "  </tbody>\n",
              "</table>\n",
              "</div>"
            ],
            "text/plain": [
              "   Unnamed: 0  Valid                                             Review\n",
              "0           0    1.0  something definitely wrong get touch vet take ...\n",
              "1           1    1.0  shaking often sign pain distress mental physic...\n",
              "2           2    0.0                               time tell u take vet\n",
              "3           3    0.0     happy new year l take tall glass bubbly please\n",
              "4           4    0.0  happy new year otis blurted family raise glass..."
            ]
          },
          "metadata": {
            "tags": []
          },
          "execution_count": 83
        }
      ]
    },
    {
      "cell_type": "code",
      "metadata": {
        "id": "B1-9csxMuAtj",
        "colab_type": "code",
        "outputId": "dc8e6525-bf33-4af7-90d9-bb9fcc9c2525",
        "colab": {
          "base_uri": "https://localhost:8080/",
          "height": 204
        }
      },
      "source": [
        "output = pd.DataFrame(columns=['X', 'Y'])\n",
        "df1.dropna() \n",
        "def change(x):\n",
        "  if x==11:\n",
        "    return 1\n",
        "  else:\n",
        "    return x\n",
        "x=df1['Review']\n",
        "y=df1['Valid']\n",
        "output['X']=x.copy()\n",
        "output['Y']=y.copy()\n",
        "#pd.options.display.float_format = '{:,.0f}'.format\n",
        "output['Y'] = output['Y'].fillna(0.0).astype(int)\n",
        "output['Y'] = output['Y'].apply(lambda x:change(x))\n",
        "output.head()"
      ],
      "execution_count": 0,
      "outputs": [
        {
          "output_type": "execute_result",
          "data": {
            "text/html": [
              "<div>\n",
              "<style scoped>\n",
              "    .dataframe tbody tr th:only-of-type {\n",
              "        vertical-align: middle;\n",
              "    }\n",
              "\n",
              "    .dataframe tbody tr th {\n",
              "        vertical-align: top;\n",
              "    }\n",
              "\n",
              "    .dataframe thead th {\n",
              "        text-align: right;\n",
              "    }\n",
              "</style>\n",
              "<table border=\"1\" class=\"dataframe\">\n",
              "  <thead>\n",
              "    <tr style=\"text-align: right;\">\n",
              "      <th></th>\n",
              "      <th>X</th>\n",
              "      <th>Y</th>\n",
              "    </tr>\n",
              "  </thead>\n",
              "  <tbody>\n",
              "    <tr>\n",
              "      <th>0</th>\n",
              "      <td>something definitely wrong get touch vet take ...</td>\n",
              "      <td>1</td>\n",
              "    </tr>\n",
              "    <tr>\n",
              "      <th>1</th>\n",
              "      <td>shaking often sign pain distress mental physic...</td>\n",
              "      <td>1</td>\n",
              "    </tr>\n",
              "    <tr>\n",
              "      <th>2</th>\n",
              "      <td>time tell u take vet</td>\n",
              "      <td>0</td>\n",
              "    </tr>\n",
              "    <tr>\n",
              "      <th>3</th>\n",
              "      <td>happy new year l take tall glass bubbly please</td>\n",
              "      <td>0</td>\n",
              "    </tr>\n",
              "    <tr>\n",
              "      <th>4</th>\n",
              "      <td>happy new year otis blurted family raise glass...</td>\n",
              "      <td>0</td>\n",
              "    </tr>\n",
              "  </tbody>\n",
              "</table>\n",
              "</div>"
            ],
            "text/plain": [
              "                                                   X  Y\n",
              "0  something definitely wrong get touch vet take ...  1\n",
              "1  shaking often sign pain distress mental physic...  1\n",
              "2                               time tell u take vet  0\n",
              "3     happy new year l take tall glass bubbly please  0\n",
              "4  happy new year otis blurted family raise glass...  0"
            ]
          },
          "metadata": {
            "tags": []
          },
          "execution_count": 48
        }
      ]
    },
    {
      "cell_type": "code",
      "metadata": {
        "id": "YPJmaqgMrxEe",
        "colab_type": "code",
        "outputId": "c4dfeade-0f32-4b1b-eace-7ff878456d3d",
        "colab": {
          "base_uri": "https://localhost:8080/",
          "height": 85
        }
      },
      "source": [
        "print(output.groupby('Y').count())"
      ],
      "execution_count": 0,
      "outputs": [
        {
          "output_type": "stream",
          "text": [
            "       X\n",
            "Y       \n",
            "0  11952\n",
            "1  12222\n"
          ],
          "name": "stdout"
        }
      ]
    },
    {
      "cell_type": "code",
      "metadata": {
        "id": "IU272WWYwPto",
        "colab_type": "code",
        "outputId": "4cb732f5-6be2-495b-f656-e4e611457312",
        "colab": {
          "base_uri": "https://localhost:8080/",
          "height": 299
        }
      },
      "source": [
        "output.groupby(\"Y\")['Y'].count().plot.bar()"
      ],
      "execution_count": 0,
      "outputs": [
        {
          "output_type": "execute_result",
          "data": {
            "text/plain": [
              "<matplotlib.axes._subplots.AxesSubplot at 0x7f5414140208>"
            ]
          },
          "metadata": {
            "tags": []
          },
          "execution_count": 25
        },
        {
          "output_type": "display_data",
          "data": {
            "image/png": "[encoded data removed]",
            "text/plain": [
              "<Figure size 432x288 with 1 Axes>"
            ]
          },
          "metadata": {
            "tags": []
          }
        }
      ]
    },
    {
      "cell_type": "code",
      "metadata": {
        "id": "WtX5dPsu0BIA",
        "colab_type": "code",
        "outputId": "199ac6bb-8a66-4b61-a74a-066b2590a61a",
        "colab": {
          "base_uri": "https://localhost:8080/",
          "height": 293
        }
      },
      "source": [
        "from sklearn.utils import resample\n",
        "\n",
        "df_majority = output[output.Y==1]\n",
        "df_minority = output[output.Y==0]\n",
        "\n",
        "# Upsample minority class\n",
        "df_minority_upsampled = resample(df_minority, \n",
        "                                 replace=True,     # sample with replacement\n",
        "                                 n_samples=9800,    # to match majority class\n",
        "                                 random_state=42) # reproducible results\n",
        "\n",
        "# Combine majority class with upsampled minority class\n",
        "output = pd.concat([output, df_minority_upsampled])\n",
        "output.groupby(\"Y\")['Y'].count().plot.bar()\n",
        "#output = output.sample(frac=1)\n",
        "# Display new class counts\n",
        "#df_upsampled.label.value_counts()"
      ],
      "execution_count": 0,
      "outputs": [
        {
          "output_type": "execute_result",
          "data": {
            "text/plain": [
              "<matplotlib.axes._subplots.AxesSubplot at 0x7f4d2fbb7e80>"
            ]
          },
          "metadata": {
            "tags": []
          },
          "execution_count": 49
        },
        {
          "output_type": "display_data",
          "data": {
            "image/png": "[encoded data removed]",
            "text/plain": [
              "<Figure size 432x288 with 1 Axes>"
            ]
          },
          "metadata": {
            "tags": []
          }
        }
      ]
    },
    {
      "cell_type": "code",
      "metadata": {
        "id": "bDFTmFLduGkY",
        "colab_type": "code",
        "colab": {}
      },
      "source": [
        "def BOW_vectorization():\n",
        "    count_vectorizer = CountVectorizer()\n",
        "    \n",
        "    bow_text = count_vectorizer.fit_transform(output['X'].values.astype('U'))\n",
        "    bow_feature_names = count_vectorizer.get_feature_names()\n",
        "    #visualizations().plot_frequency_distribution(bow_text, bow_feature_names)\n",
        "    #X = pd.DataFrame(bow_text.toarray(), columns = bow_feature_names)\n",
        "    Y = output['Y']\n",
        "    X=bow_text.toarray()\n",
        "    #visualizations().plot_TSNE_distribution(bow_text, Y)\n",
        "    return X, Y\n",
        "\n",
        "def TFIDF_vectorization():\n",
        "    tfidf_vectorizer = TfidfVectorizer(max_features = 5500)\n",
        "    tfidf_text = tfidf_vectorizer.fit_transform(output['X'].values.astype('U'))\n",
        "    tfidf_feature_names = tfidf_vectorizer.get_feature_names()\n",
        "    #visualizations().plot_frequency_distribution(tfidf_text, tfidf_feature_names)\n",
        "    X = tfidf_text.toarray()\n",
        "    #pd.DataFrame(tfidf_text.toarray(), columns = tfidf_feature_names)\n",
        "    Y = output['Y']\n",
        "    #visualizations().plot_TSNE_distribution(tfidf_text, Y)\n",
        "    return X, Y"
      ],
      "execution_count": 0,
      "outputs": []
    },
    {
      "cell_type": "code",
      "metadata": {
        "id": "ckQ3GpuYuLlc",
        "colab_type": "code",
        "outputId": "71872e70-3454-4d9d-88a7-f4c6e2dbb5ba",
        "colab": {
          "base_uri": "https://localhost:8080/",
          "height": 51
        }
      },
      "source": [
        "from sklearn.feature_extraction.text import CountVectorizer\n",
        "from sklearn.feature_extraction.text import TfidfVectorizer\n",
        "from sklearn.decomposition import TruncatedSVD\n",
        "from sklearn.model_selection import train_test_split\n",
        "X1, Y1 =TFIDF_vectorization()\n",
        "Y1.apply(lambda x:change(x))\n",
        "print(type(X1))\n",
        "svd = TruncatedSVD(algorithm='randomized',n_components=200, n_iter=7, random_state=None,tol=0.0)\n",
        "X2=svd.fit_transform(X1)\n",
        "print(type(X2))\n",
        "Xtemp, Xtest, Ytemp, Ytest = train_test_split(X2, Y1, test_size = 0.2, random_state = 12)\n",
        "Xtrain, Xcv, Ytrain, Ycv = train_test_split(Xtemp, Ytemp, test_size = 0.2, random_state = 12)"
      ],
      "execution_count": 0,
      "outputs": [
        {
          "output_type": "stream",
          "text": [
            "<class 'numpy.ndarray'>\n",
            "<class 'numpy.ndarray'>\n"
          ],
          "name": "stdout"
        }
      ]
    },
    {
      "cell_type": "code",
      "metadata": {
        "id": "aWsH6elFMyPt",
        "colab_type": "code",
        "outputId": "4c9736c8-63de-4331-8113-6e4a312abb63",
        "colab": {
          "base_uri": "https://localhost:8080/",
          "height": 85
        }
      },
      "source": [
        "print(len(X1))\n",
        "print(len(Xtest))\n",
        "print(len(Xtrain))\n",
        "print(len(Xcv))"
      ],
      "execution_count": 0,
      "outputs": [
        {
          "output_type": "stream",
          "text": [
            "24578\n",
            "4916\n",
            "15729\n",
            "3933\n"
          ],
          "name": "stdout"
        }
      ]
    },
    {
      "cell_type": "code",
      "metadata": {
        "id": "MoNIFWb-uQT4",
        "colab_type": "code",
        "colab": {}
      },
      "source": [
        "def decision_tree_classification(X,Y,depth):\n",
        "    classifier = DecisionTreeClassifier(criterion='gini', splitter='best',  max_depth=depth, random_state=None, min_samples_split=2, min_samples_leaf=5, max_features=None)\n",
        "    start_time = time.time()\n",
        "    classifier.fit(Xtrain,Ytrain)\n",
        "    predictions = classifier.predict(X)\n",
        "    accuracy = accuracy_score(Y, predictions)\n",
        "    elapsed_time = (time.time() - start_time)\n",
        "    print('Decision Tree Classification :')\n",
        "    print('Accuracy: {0}'.format(accuracy))\n",
        "    print('Elapsed Time: {0}'.format(elapsed_time))\n",
        "    confusionMatrix(Y, predictions)\n",
        "    classificationReport(Y, predictions)\n",
        "    plot_roc_auc_curve(Y, predictions)\n",
        "    return accuracy\n",
        "\n",
        "def random_forest_classification(X,Y,depth):\n",
        "    classifier = RandomForestClassifier(\n",
        "            criterion='gini', n_estimators=100, max_depth=depth, random_state=None, min_samples_split=2, min_samples_leaf=5, max_features=None\n",
        "                                                  )\n",
        "    start_time = time.time()\n",
        "    classifier.fit(Xtrain, Ytrain)\n",
        "    predictions = classifier.predict(X)\n",
        "    accuracy = accuracy_score(Y, predictions)\n",
        "    elapsed_time = (time.time() - start_time)\n",
        "    print('Random Forest Classification :')\n",
        "    print('Accuracy: {0}'.format(accuracy))\n",
        "    print('Elapsed Time: {0}'.format(elapsed_time))\n",
        "    confusionMatrix(Y, predictions)\n",
        "    classificationReport(Y, predictions)\n",
        "    plot_roc_auc_curve(Y, predictions)\n",
        "    return accuracy\n",
        "def knn_classification(X,Y,n):\n",
        "    classifier = KNeighborsClassifier(n_neighbors=n, algorithm='auto',  n_jobs=None)\n",
        "    start_time = time.time()\n",
        "    classifier.fit(X, Y)\n",
        "    predictions = classifier.predict(X)\n",
        "    accuracy = accuracy_score(Y, predictions)\n",
        "    elapsed_time = (time.time() - start_time)\n",
        "    print('KNN Classification :')\n",
        "    print('Accuracy: {0}'.format(accuracy))\n",
        "    print('Elapsed Time: {0}'.format(elapsed_time))\n",
        "    confusionMatrix(Y, predictions)\n",
        "    #classificationReport(Y, predictions)\n",
        "    #plot_roc_auc_curve(Y, predictions)\n",
        "    return accuracy\n",
        "\n",
        "def svm_classification(X,Y,c):\n",
        "    classifier = SVC(kernel='linear', random_state=None, C=c, gamma=1.0)\n",
        "    start_time = time.time()\n",
        "    classifier.fit(X, Y)\n",
        "    predictions = classifier.predict(X)\n",
        "    accuracy = accuracy_score(Y, predictions)\n",
        "    elapsed_time = (time.time() - start_time)\n",
        "    print('SVM Classification :')\n",
        "    print('Accuracy: {0}'.format(accuracy))\n",
        "    print('Elapsed Time: {0}'.format(elapsed_time))\n",
        "    #confusionMatrix(Y, predictions)\n",
        "    #classificationReport(Y, predictions)\n",
        "    #plot_roc_auc_curve(Y, predictions)\n",
        "    return accuracy"
      ],
      "execution_count": 0,
      "outputs": []
    },
    {
      "cell_type": "code",
      "metadata": {
        "id": "-G9siLXxI9gv",
        "colab_type": "code",
        "colab": {}
      },
      "source": [
        "def plot_roc_auc_curve( Ytest, Ypred):\n",
        "    fpr, tpr, thresholds = roc_curve(Ytest, Ypred, pos_label =1)\n",
        "    roc_auc = auc(fpr, tpr)\n",
        "    auc_score = roc_auc_score(Ytest, Ypred)\n",
        "    print('ROC score : {0}'.format(roc_auc))\n",
        "    print('AUC score : {0}'.format(auc_score))\n",
        "    plt.figure()\n",
        "    plt.plot(fpr, tpr, color='darkorange')\n",
        "    plt.plot([0,1], [0,1], color='navy', linestyle='--')\n",
        "    plt.xlim([0.0, 1.0])\n",
        "    plt.ylim([0.0, 1.0])\n",
        "    plt.xlabel('False Positive Rate')\n",
        "    plt.ylabel('True Positive Rate')\n",
        "    plt.show() \n",
        "\n",
        "def plot_frequency_distribution(text, feature_names):\n",
        "    visualizer = FreqDistVisualizer(features=feature_names)\n",
        "    visualizer.fit(text)\n",
        "    visualizer.poof()\n",
        "  #  t-Distributed Stochastic Neighbor Embedding (t-SNE) is a dimensionality reduction algorithm for visualizing high-dimensional datasets.\n",
        "def plot_TSNE_distribution(text, labels):\n",
        "    tsne = TSNEVisualizer()\n",
        "    tsne.fit_transform(text, labels)\n",
        "    tsne.poof()"
      ],
      "execution_count": 0,
      "outputs": []
    },
    {
      "cell_type": "code",
      "metadata": {
        "id": "u2r4UiA_lay8",
        "colab_type": "code",
        "colab": {}
      },
      "source": [
        "def confusionMatrix(Ytest, Ypred):\n",
        "    results = confusion_matrix(Ytest, Ypred)\n",
        "    print('Confusion Matrix: {0}'.format(results))\n",
        "    sns.heatmap(results, annot=True, cbar=False)\n",
        "    plt.ylabel('True Label')\n",
        "    plt.xlabel('Predicted Label')\n",
        "    plt.title('Confusion Matrix')\n",
        "\n",
        "\n",
        "def classificationReport(Ytest, Ypred):\n",
        "    report = classification_report(Ytest, Ypred)\n",
        "    print('Classification report: {0}'.format(report))"
      ],
      "execution_count": 0,
      "outputs": []
    },
    {
      "cell_type": "code",
      "metadata": {
        "id": "OhJJtdrHfk7-",
        "colab_type": "code",
        "colab": {}
      },
      "source": [
        "import sys\n",
        "sys.setrecursionlimit(10000)"
      ],
      "execution_count": 0,
      "outputs": []
    },
    {
      "cell_type": "code",
      "metadata": {
        "id": "KNzbaWVamRw6",
        "colab_type": "code",
        "outputId": "af34dd98-06d2-46bf-8b7a-43e31ccb43a7",
        "colab": {
          "base_uri": "https://localhost:8080/",
          "height": 85
        }
      },
      "source": [
        "decision_tree_classification(Xtrain,Ytrain,30)"
      ],
      "execution_count": 0,
      "outputs": [
        {
          "output_type": "stream",
          "text": [
            "Decision Tree Classification :\n",
            "Accuracy: 0.9647148579057792\n",
            "Elapsed Time: 4.432506084442139\n"
          ],
          "name": "stdout"
        },
        {
          "output_type": "execute_result",
          "data": {
            "text/plain": [
              "0.9647148579057792"
            ]
          },
          "metadata": {
            "tags": []
          },
          "execution_count": 12
        }
      ]
    },
    {
      "cell_type": "code",
      "metadata": {
        "id": "Qr929qHrwE10",
        "colab_type": "code",
        "outputId": "8d5cb58b-825c-4281-e709-1dbac851afb4",
        "colab": {
          "base_uri": "https://localhost:8080/",
          "height": 1000
        }
      },
      "source": [
        "#ml_models = machine_learning_models(Xtrain, Xtest, Ytrain, Ytest)\n",
        "x=[]\n",
        "y=[]\n",
        "for i in range(2,60,4):\n",
        "  x.append(i)\n",
        "  y.append(decision_tree_classification(Xtrain,Ytrain,i))\n",
        "  #decision_tree_classification(Xtest,Ytest)\n",
        "plt.figure()\n",
        "plt.plot(x, y, color='darkorange')\n",
        "plt.plot([0,1], [0,1], color='navy', linestyle='--')\n",
        "plt.xlim([0, 100])\n",
        "plt.ylim([0, 1])\n",
        "plt.xlabel('MaxDepth')\n",
        "plt.ylabel('Accuracy')\n",
        "plt.show() \n"
      ],
      "execution_count": 0,
      "outputs": [
        {
          "output_type": "stream",
          "text": [
            "Decision Tree Classification :\n",
            "Accuracy: 0.631762985568059\n",
            "Elapsed Time: 0.6995394229888916\n",
            "Decision Tree Classification :\n",
            "Accuracy: 0.7584080361116409\n",
            "Elapsed Time: 1.8200891017913818\n",
            "Decision Tree Classification :\n",
            "Accuracy: 0.8623561574162375\n",
            "Elapsed Time: 2.7695577144622803\n",
            "Decision Tree Classification :\n",
            "Accuracy: 0.9136626613262128\n",
            "Elapsed Time: 3.3233039379119873\n",
            "Decision Tree Classification :\n",
            "Accuracy: 0.9420179286667938\n",
            "Elapsed Time: 3.767970561981201\n",
            "Decision Tree Classification :\n",
            "Accuracy: 0.957657829486935\n",
            "Elapsed Time: 4.069438695907593\n",
            "Decision Tree Classification :\n",
            "Accuracy: 0.9642698200775638\n",
            "Elapsed Time: 4.2357189655303955\n",
            "Decision Tree Classification :\n",
            "Accuracy: 0.9649055884035858\n",
            "Elapsed Time: 4.367508172988892\n",
            "Decision Tree Classification :\n",
            "Accuracy: 0.9651598957339945\n",
            "Elapsed Time: 4.429133176803589\n",
            "Decision Tree Classification :\n",
            "Accuracy: 0.9652234725665967\n",
            "Elapsed Time: 4.451913833618164\n",
            "Decision Tree Classification :\n",
            "Accuracy: 0.9656685103948122\n",
            "Elapsed Time: 4.474440336227417\n",
            "Decision Tree Classification :\n",
            "Accuracy: 0.9649691652361879\n",
            "Elapsed Time: 4.463269472122192\n",
            "Decision Tree Classification :\n",
            "Accuracy: 0.965287049399199\n",
            "Elapsed Time: 4.452346086502075\n",
            "Decision Tree Classification :\n",
            "Accuracy: 0.9658592408926188\n",
            "Elapsed Time: 4.453217029571533\n",
            "Decision Tree Classification :\n",
            "Accuracy: 0.9650963189013924\n",
            "Elapsed Time: 4.484039068222046\n"
          ],
          "name": "stdout"
        },
        {
          "output_type": "display_data",
          "data": {
            "image/png": "[encoded data removed]",
            "text/plain": [
              "<Figure size 432x288 with 1 Axes>"
            ]
          },
          "metadata": {
            "tags": []
          }
        }
      ]
    },
    {
      "cell_type": "code",
      "metadata": {
        "id": "6yZA6FWewqMn",
        "colab_type": "code",
        "outputId": "f2786995-8ff2-4013-f1d6-65265ce47b1e",
        "colab": {
          "base_uri": "https://localhost:8080/",
          "height": 850
        }
      },
      "source": [
        "decision_tree_classification(Xcv,Ycv,30)"
      ],
      "execution_count": 0,
      "outputs": [
        {
          "output_type": "stream",
          "text": [
            "Decision Tree Classification :\n",
            "Accuracy: 0.9148232901093313\n",
            "Elapsed Time: 4.692758321762085\n",
            "Confusion Matrix: [[1828  112]\n",
            " [ 223 1770]]\n",
            "Classification report:               precision    recall  f1-score   support\n",
            "\n",
            "           0       0.89      0.94      0.92      1940\n",
            "           1       0.94      0.89      0.91      1993\n",
            "\n",
            "    accuracy                           0.91      3933\n",
            "   macro avg       0.92      0.92      0.91      3933\n",
            "weighted avg       0.92      0.91      0.91      3933\n",
            "\n",
            "ROC score : 0.9151882102823801\n",
            "AUC score : 0.9151882102823801\n"
          ],
          "name": "stdout"
        },
        {
          "output_type": "display_data",
          "data": {
            "image/png": "[encoded data removed]",
            "text/plain": [
              "<Figure size 432x288 with 1 Axes>"
            ]
          },
          "metadata": {
            "tags": []
          }
        },
        {
          "output_type": "display_data",
          "data": {
            "image/png": "[encoded data removed]",
            "text/plain": [
              "<Figure size 432x288 with 1 Axes>"
            ]
          },
          "metadata": {
            "tags": []
          }
        },
        {
          "output_type": "execute_result",
          "data": {
            "text/plain": [
              "0.9148232901093313"
            ]
          },
          "metadata": {
            "tags": []
          },
          "execution_count": 24
        }
      ]
    },
    {
      "cell_type": "code",
      "metadata": {
        "id": "tLUQv36-o_vQ",
        "colab_type": "code",
        "outputId": "18b8c773-4a94-4541-dbb6-2656c78734fd",
        "colab": {
          "base_uri": "https://localhost:8080/",
          "height": 850
        }
      },
      "source": [
        "decision_tree_classification(Xtest,Ytest,30)"
      ],
      "execution_count": 0,
      "outputs": [
        {
          "output_type": "stream",
          "text": [
            "Decision Tree Classification :\n",
            "Accuracy: 0.9129373474369405\n",
            "Elapsed Time: 4.357212543487549\n",
            "Confusion Matrix: [[2287  143]\n",
            " [ 285 2201]]\n",
            "Classification report:               precision    recall  f1-score   support\n",
            "\n",
            "           0       0.89      0.94      0.91      2430\n",
            "           1       0.94      0.89      0.91      2486\n",
            "\n",
            "    accuracy                           0.91      4916\n",
            "   macro avg       0.91      0.91      0.91      4916\n",
            "weighted avg       0.91      0.91      0.91      4916\n",
            "\n",
            "ROC score : 0.9132551341007584\n",
            "AUC score : 0.9132551341007584\n"
          ],
          "name": "stdout"
        },
        {
          "output_type": "display_data",
          "data": {
            "image/png": "[encoded data removed]",
            "text/plain": [
              "<Figure size 432x288 with 1 Axes>"
            ]
          },
          "metadata": {
            "tags": []
          }
        },
        {
          "output_type": "display_data",
          "data": {
            "image/png": "[encoded data removed]",
            "text/plain": [
              "<Figure size 432x288 with 1 Axes>"
            ]
          },
          "metadata": {
            "tags": []
          }
        },
        {
          "output_type": "execute_result",
          "data": {
            "text/plain": [
              "0.9129373474369405"
            ]
          },
          "metadata": {
            "tags": []
          },
          "execution_count": 17
        }
      ]
    },
    {
      "cell_type": "code",
      "metadata": {
        "id": "Sdqcp0C4fSeX",
        "colab_type": "code",
        "colab": {}
      },
      "source": [
        "x=[]\n",
        "y=[]\n",
        "for i in range(4,40,4):\n",
        "  x.append(i)\n",
        "  y.append(random_forest_classification(Xtrain,Ytrain,i))\n",
        "  #decision_tree_classification(Xtest,Ytest)\n",
        "plt.figure()\n",
        "plt.plot(x, y, color='darkorange')\n",
        "plt.plot([0,1], [0,1], color='navy', linestyle='--')\n",
        "plt.xlim([0, 100])\n",
        "plt.ylim([0, 1])\n",
        "plt.xlabel('MaxDepth')\n",
        "plt.ylabel('Accuracy')\n",
        "plt.show() \n",
        "\n"
      ],
      "execution_count": 0,
      "outputs": []
    },
    {
      "cell_type": "code",
      "metadata": {
        "id": "V_PJXzR9ySsQ",
        "colab_type": "code",
        "colab": {}
      },
      "source": [
        "random_forest_classification(Xcv,Ycv,24)"
      ],
      "execution_count": 0,
      "outputs": []
    },
    {
      "cell_type": "code",
      "metadata": {
        "id": "S_yLrbSTxuDf",
        "colab_type": "code",
        "outputId": "82abcd80-de43-474f-de1e-fe011ce47696",
        "colab": {
          "base_uri": "https://localhost:8080/",
          "height": 850
        }
      },
      "source": [
        "random_forest_classification(Xtest,Ytest,24)"
      ],
      "execution_count": 0,
      "outputs": [
        {
          "output_type": "stream",
          "text": [
            "Random Forest Classification :\n",
            "Accuracy: 0.9576891781936534\n",
            "Elapsed Time: 302.39598393440247\n",
            "Confusion Matrix: [[2320  110]\n",
            " [  98 2388]]\n",
            "Classification report:               precision    recall  f1-score   support\n",
            "\n",
            "           0       0.96      0.95      0.96      2430\n",
            "           1       0.96      0.96      0.96      2486\n",
            "\n",
            "    accuracy                           0.96      4916\n",
            "   macro avg       0.96      0.96      0.96      4916\n",
            "weighted avg       0.96      0.96      0.96      4916\n",
            "\n",
            "ROC score : 0.9576558770265752\n",
            "AUC score : 0.9576558770265752\n"
          ],
          "name": "stdout"
        },
        {
          "output_type": "display_data",
          "data": {
            "image/png": "[encoded data removed]",
            "text/plain": [
              "<Figure size 432x288 with 1 Axes>"
            ]
          },
          "metadata": {
            "tags": []
          }
        },
        {
          "output_type": "display_data",
          "data": {
            "image/png": "[encoded data removed]",
            "text/plain": [
              "<Figure size 432x288 with 1 Axes>"
            ]
          },
          "metadata": {
            "tags": []
          }
        },
        {
          "output_type": "execute_result",
          "data": {
            "text/plain": [
              "0.9576891781936534"
            ]
          },
          "metadata": {
            "tags": []
          },
          "execution_count": 26
        }
      ]
    },
    {
      "cell_type": "code",
      "metadata": {
        "id": "IOD60LTkfTo1",
        "colab_type": "code",
        "outputId": "3d381663-089d-484c-ce84-9a51d6966c6d",
        "colab": {
          "base_uri": "https://localhost:8080/",
          "height": 1000
        }
      },
      "source": [
        "x=[]\n",
        "y=[]\n",
        "for i in range(1,30,2):\n",
        "  x.append(i)\n",
        "  y.append(knn_classification(Xtrain,Ytrain,i))\n",
        "  #decision_tree_classification(Xtest,Ytest)\n",
        "plt.figure()\n",
        "plt.plot(x, y, color='darkorange')\n",
        "plt.plot([0,1], [0,1], color='navy', linestyle='--')\n",
        "plt.xlim([0, 30])\n",
        "plt.ylim([0, 1])\n",
        "plt.xlabel('MaxDepth')\n",
        "plt.ylabel('Accuracy')\n",
        "plt.show() \n"
      ],
      "execution_count": 0,
      "outputs": [
        {
          "output_type": "stream",
          "text": [
            "KNN Classification :\n",
            "Accuracy: 0.9833428698582236\n",
            "Elapsed Time: 1.9424021244049072\n",
            "Confusion Matrix: [[7826   90]\n",
            " [ 172 7641]]\n",
            "KNN Classification :\n",
            "Accuracy: 0.9660499713904254\n",
            "Elapsed Time: 46.55037569999695\n",
            "Confusion Matrix: [[7821   95]\n",
            " [ 439 7374]]\n",
            "KNN Classification :\n",
            "Accuracy: 0.9434166189840422\n",
            "Elapsed Time: 69.40448498725891\n",
            "Confusion Matrix: [[7616  300]\n",
            " [ 590 7223]]\n",
            "KNN Classification :\n",
            "Accuracy: 0.9177951554453557\n",
            "Elapsed Time: 88.47615432739258\n",
            "Confusion Matrix: [[7335  581]\n",
            " [ 712 7101]]\n",
            "KNN Classification :\n",
            "Accuracy: 0.8984042215016848\n",
            "Elapsed Time: 99.32425284385681\n",
            "Confusion Matrix: [[7104  812]\n",
            " [ 786 7027]]\n",
            "KNN Classification :\n",
            "Accuracy: 0.8821921291881238\n",
            "Elapsed Time: 103.17142057418823\n",
            "Confusion Matrix: [[6820 1096]\n",
            " [ 757 7056]]\n",
            "KNN Classification :\n",
            "Accuracy: 0.8718926823065675\n",
            "Elapsed Time: 108.43489265441895\n",
            "Confusion Matrix: [[6697 1219]\n",
            " [ 796 7017]]\n",
            "KNN Classification :\n",
            "Accuracy: 0.8595587767817408\n",
            "Elapsed Time: 116.29554772377014\n",
            "Confusion Matrix: [[6456 1460]\n",
            " [ 749 7064]]\n",
            "KNN Classification :\n",
            "Accuracy: 0.8501494055566152\n",
            "Elapsed Time: 122.4712085723877\n",
            "Confusion Matrix: [[6307 1609]\n",
            " [ 748 7065]]\n",
            "KNN Classification :\n",
            "Accuracy: 0.8425837624769534\n",
            "Elapsed Time: 119.04482460021973\n",
            "Confusion Matrix: [[6135 1781]\n",
            " [ 695 7118]]\n",
            "KNN Classification :\n",
            "Accuracy: 0.8356538877233136\n",
            "Elapsed Time: 123.5756721496582\n",
            "Confusion Matrix: [[6041 1875]\n",
            " [ 710 7103]]\n",
            "KNN Classification :\n",
            "Accuracy: 0.8210947930574098\n",
            "Elapsed Time: 123.45065832138062\n",
            "Confusion Matrix: [[5797 2119]\n",
            " [ 695 7118]]\n",
            "KNN Classification :\n",
            "Accuracy: 0.8162629537796428\n",
            "Elapsed Time: 125.12066102027893\n",
            "Confusion Matrix: [[5639 2277]\n",
            " [ 613 7200]]\n",
            "KNN Classification :\n",
            "Accuracy: 0.8113675376692733\n",
            "Elapsed Time: 135.5654649734497\n",
            "Confusion Matrix: [[5568 2348]\n",
            " [ 619 7194]]\n",
            "KNN Classification :\n",
            "Accuracy: 0.8105410388454447\n",
            "Elapsed Time: 140.5593180656433\n",
            "Confusion Matrix: [[5493 2423]\n",
            " [ 557 7256]]\n"
          ],
          "name": "stdout"
        },
        {
          "output_type": "display_data",
          "data": {
            "image/png": "[encoded data removed]",
            "text/plain": [
              "<Figure size 432x288 with 1 Axes>"
            ]
          },
          "metadata": {
            "tags": []
          }
        },
        {
          "output_type": "display_data",
          "data": {
            "image/png": "[encoded data removed]",
            "text/plain": [
              "<Figure size 432x288 with 1 Axes>"
            ]
          },
          "metadata": {
            "tags": []
          }
        }
      ]
    },
    {
      "cell_type": "code",
      "metadata": {
        "id": "1j5YwMmvb1hk",
        "colab_type": "code",
        "outputId": "6c2607c0-e146-44b2-deeb-7e9399ea1ce0",
        "colab": {
          "base_uri": "https://localhost:8080/",
          "height": 397
        }
      },
      "source": [
        "knn_classification(Xcv,Ycv,5)\n"
      ],
      "execution_count": 0,
      "outputs": [
        {
          "output_type": "stream",
          "text": [
            "KNN Classification :\n",
            "Accuracy: 0.863208746503941\n",
            "Elapsed Time: 6.727583646774292\n",
            "Confusion Matrix: [[1586  354]\n",
            " [ 184 1809]]\n"
          ],
          "name": "stdout"
        },
        {
          "output_type": "execute_result",
          "data": {
            "text/plain": [
              "0.863208746503941"
            ]
          },
          "metadata": {
            "tags": []
          },
          "execution_count": 66
        },
        {
          "output_type": "display_data",
          "data": {
            "image/png": "[encoded data removed]",
            "text/plain": [
              "<Figure size 432x288 with 1 Axes>"
            ]
          },
          "metadata": {
            "tags": []
          }
        }
      ]
    },
    {
      "cell_type": "code",
      "metadata": {
        "id": "kqrtcAp7l853",
        "colab_type": "code",
        "outputId": "01a56790-2ebd-434c-a449-60d3f2d6e580",
        "colab": {
          "base_uri": "https://localhost:8080/",
          "height": 397
        }
      },
      "source": [
        "knn_classification(Xtest,Ytest,5)"
      ],
      "execution_count": 0,
      "outputs": [
        {
          "output_type": "stream",
          "text": [
            "KNN Classification :\n",
            "Accuracy: 0.870626525630594\n",
            "Elapsed Time: 8.906477451324463\n",
            "Confusion Matrix: [[2034  396]\n",
            " [ 240 2246]]\n"
          ],
          "name": "stdout"
        },
        {
          "output_type": "execute_result",
          "data": {
            "text/plain": [
              "0.870626525630594"
            ]
          },
          "metadata": {
            "tags": []
          },
          "execution_count": 70
        },
        {
          "output_type": "display_data",
          "data": {
            "image/png": "[encoded data removed]",
            "text/plain": [
              "<Figure size 432x288 with 1 Axes>"
            ]
          },
          "metadata": {
            "tags": []
          }
        }
      ]
    }
  ]
}